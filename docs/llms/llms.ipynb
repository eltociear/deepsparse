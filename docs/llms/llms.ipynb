{
 "cells": [
  {
   "cell_type": "code",
   "execution_count": 2,
   "metadata": {},
   "outputs": [
    {
     "name": "stderr",
     "output_type": "stream",
     "text": [
      "Using pad_token, but it is not set yet.\n",
      "2023-10-02 22:43:37 deepsparse.transformers.pipelines.text_generation INFO     Compiling an auxiliary engine to process a prompt with a larger processing length. This improves performance, but may result in additional memory consumption.\n",
      "2023-10-02 22:43:37 deepsparse.utils.onnx INFO     Overwriting in-place the input shapes of the transformer model at /home/robertgshaw/.cache/sparsezoo/neuralmagic/mpt-7b-dolly_mpt_pretrain-pruned50_quantized/model.onnx\n",
      "DeepSparse, Copyright 2021-present / Neuralmagic, Inc. version: 1.6.0.20230928 COMMUNITY | (0e7e2b86) (release) (optimized) (system=avx512_vnni, binary=avx512)\n",
      "2023-10-02 22:44:33 deepsparse.utils.onnx INFO     Overwriting in-place the input shapes of the transformer model at /home/robertgshaw/.cache/sparsezoo/neuralmagic/mpt-7b-dolly_mpt_pretrain-pruned50_quantized/model.onnx\n"
     ]
    }
   ],
   "source": [
    "from deepsparse import TextGeneration\n",
    "\n",
    "MODEL_PATH = \"zoo:nlg/text_generation/mpt-7b/pytorch/huggingface/dolly/pruned50_quant-none\"\n",
    "pipeline = TextGeneration(model_path=MODEL_PATH, num_cores=16)"
   ]
  },
  {
   "cell_type": "code",
   "execution_count": null,
   "metadata": {},
   "outputs": [],
   "source": [
    "pipeline.force_max_tokens = True"
   ]
  },
  {
   "cell_type": "code",
   "execution_count": 7,
   "metadata": {},
   "outputs": [
    {
     "data": {
      "text/plain": [
       "TextGenerationOutput(created=datetime.datetime(2023, 10, 2, 22, 46, 7, 505407), prompts='Below is an instruction that describes a task. Write a response that appropriately completes the request. ### Instruction: what is Kubernetes? ### Response:', generations=[GeneratedText(text=' Kubernetes is an open-source container orchestration system for automating deployment, scaling, and management of containerized applications.The Kubernetes project was started by Google in 2011, and it is now maintained by the Cloud Native Computing Foundation.The Kubernetes project was started by Google in 2011, and it is now maintained by the Cloud Native Computing Foundation.The Kubernetes project was started by Google in 2011, and it is now maintained by the Cloud Native Computing Foundation.\\n\\nKubernetes is an open-', score=None, finished=True, finished_reason='length')])"
      ]
     },
     "execution_count": 7,
     "metadata": {},
     "output_type": "execute_result"
    }
   ],
   "source": [
    "prompt = \"Below is an instruction that describes a task. Write a response that appropriately completes the request. ### Instruction: what is Kubernetes? ### Response:\"\n",
    "\n",
    "import time\n",
    "\n",
    "start = time.start()\n",
    "pipeline(prompt=prompt, max_new_tokens=100)\n",
    "\n",
    "end = time.end()"
   ]
  },
  {
   "cell_type": "code",
   "execution_count": 6,
   "metadata": {},
   "outputs": [],
   "source": []
  },
  {
   "cell_type": "code",
   "execution_count": null,
   "metadata": {},
   "outputs": [],
   "source": []
  }
 ],
 "metadata": {
  "kernelspec": {
   "display_name": "Python 3 (ipykernel)",
   "language": "python",
   "name": "python3"
  },
  "language_info": {
   "codemirror_mode": {
    "name": "ipython",
    "version": 3
   },
   "file_extension": ".py",
   "mimetype": "text/x-python",
   "name": "python",
   "nbconvert_exporter": "python",
   "pygments_lexer": "ipython3",
   "version": "3.9.2"
  },
  "orig_nbformat": 4
 },
 "nbformat": 4,
 "nbformat_minor": 2
}
